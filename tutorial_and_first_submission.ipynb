{
 "metadata": {
  "language": "Julia",
  "name": "",
  "signature": "sha256:d6cad053758da48904425477c9a04bdec0c68a1927e1969e0f18ff7663de8e3a"
 },
 "nbformat": 3,
 "nbformat_minor": 0,
 "worksheets": [
  {
   "cells": [
    {
     "cell_type": "code",
     "collapsed": false,
     "input": [
      "##add the image package in Julia\n",
      "\n",
      "\n",
      "using Images\n",
      "using DataFrames\n",
      "\n",
      "using Iterators"
     ],
     "language": "python",
     "metadata": {},
     "outputs": [],
     "prompt_number": 68
    },
    {
     "cell_type": "code",
     "collapsed": false,
     "input": [
      "img = imread(\"sample.jpeg\")\n",
      "temp = float32sc(img)\n",
      "##read image and convert to matrix\n",
      "\n",
      "if ndims(img) == 3\n",
      "    temp = mean(temp.data, 1)\n",
      "end\n",
      "\n"
     ],
     "language": "python",
     "metadata": {},
     "outputs": [],
     "prompt_number": 69
    },
    {
     "cell_type": "code",
     "collapsed": false,
     "input": [
      "#println(temp.data) ##printing the vector"
     ],
     "language": "python",
     "metadata": {},
     "outputs": [],
     "prompt_number": 70
    },
    {
     "cell_type": "code",
     "collapsed": false,
     "input": [
      "#x[i, :] = reshape(temp, 1, imageSize)\n",
      "##every row is one image\n",
      "##every column is one feature vector"
     ],
     "language": "python",
     "metadata": {},
     "outputs": [],
     "prompt_number": 71
    },
    {
     "cell_type": "code",
     "collapsed": false,
     "input": [
      "##Data could be of either type (train) or (test)\n",
      "\n",
      "##a column called labelsInfo contains all of training labels\n",
      "\n",
      "##imgs are 20x20 "
     ],
     "language": "python",
     "metadata": {},
     "outputs": [],
     "prompt_number": 72
    },
    {
     "cell_type": "code",
     "collapsed": false,
     "input": [
      "function read_data(typeData, labelsInfo, imageSize, path)\n",
      "\n",
      "    #initialize x matrix\n",
      "    x = zeros(size(labelsInfo, 1), imageSize) ##number of rows is number of labels, columns is # of pixels in image\n",
      "    \n",
      "    for (index, idImage) in enumerate(labelsInfo)\n",
      "        ##read in the image\n",
      "        namefile = \"$(path)/$(typeData)Resized/$(idImage).bmp\"\n",
      "        img = imread(namefile)\n",
      "        \n",
      "        ##convert to float values\n",
      "        temp = float32sc(img)\n",
      "        \n",
      "        ##convert to black/white if color\n",
      "        if ndims(temp) == 3\n",
      "            temp = mean(temp.data,1)\n",
      "        end\n",
      "        \n",
      "        ##transform vector and store as 1-d matrix\n",
      "        x[index, :] = reshape(temp, 1, imageSize)\n",
      "    end\n",
      "    \n",
      "    return x\n",
      "end\n",
      "            "
     ],
     "language": "python",
     "metadata": {},
     "outputs": [
      {
       "metadata": {},
       "output_type": "pyout",
       "prompt_number": 81,
       "text": [
        "read_data (generic function with 1 method)"
       ]
      }
     ],
     "prompt_number": 81
    },
    {
     "cell_type": "code",
     "collapsed": false,
     "input": [],
     "language": "python",
     "metadata": {},
     "outputs": [],
     "prompt_number": 82
    },
    {
     "cell_type": "code",
     "collapsed": false,
     "input": [],
     "language": "python",
     "metadata": {},
     "outputs": [],
     "prompt_number": 83
    },
    {
     "cell_type": "code",
     "collapsed": false,
     "input": [
      "imageSize = 400 # 20 x 20 pixel\n",
      "\n",
      "##path\n",
      "path = \"/Users/ksk/kg-j-data\"\n",
      "\n",
      "\n",
      "#Set location of data files, folders\n",
      "\n",
      "#Read information about training data , IDs.\n",
      "labelsInfoTrain = readtable(\"$(path)/trainLabels.csv\")\n",
      "\n",
      "#Read training matrix\n",
      "xTrain = read_data(\"train\", labelsInfoTrain, imageSize, path)\n",
      "\n",
      "#Read information about test data ( IDs ).\n",
      "labelsInfoTest = readtable(\"$(path)/sampleSubmission.csv\")\n",
      "\n",
      "#Read test matrix\n",
      "xTest = read_data(\"test\", labelsInfoTest, imageSize, path)"
     ],
     "language": "python",
     "metadata": {},
     "outputs": [
      {
       "ename": "LoadError",
       "evalue": "`start` has no method matching start(::DataFrame)\nwhile loading In[84], in expression starting on line 13",
       "output_type": "pyerr",
       "traceback": [
        "`start` has no method matching start(::DataFrame)\nwhile loading In[84], in expression starting on line 13",
        "",
        " in read_data at In[81]:6"
       ]
      }
     ],
     "prompt_number": 84
    },
    {
     "cell_type": "code",
     "collapsed": false,
     "input": [],
     "language": "python",
     "metadata": {},
     "outputs": [],
     "prompt_number": 65
    },
    {
     "cell_type": "code",
     "collapsed": false,
     "input": [],
     "language": "python",
     "metadata": {},
     "outputs": []
    }
   ],
   "metadata": {}
  }
 ]
}