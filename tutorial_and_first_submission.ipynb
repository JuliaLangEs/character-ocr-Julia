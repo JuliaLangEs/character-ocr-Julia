{
 "metadata": {
  "language": "Julia",
  "name": "",
  "signature": "sha256:c297f7091a9dbbd0d17e9a59a3f5e2e1a38df8e7f738d9a6004eae7e2a3f1b20"
 },
 "nbformat": 3,
 "nbformat_minor": 0,
 "worksheets": [
  {
   "cells": [
    {
     "cell_type": "code",
     "collapsed": false,
     "input": [
      "##add the image package in Julia\n",
      "\n",
      "\n",
      "using Images\n",
      "using DataFrames\n",
      "\n"
     ],
     "language": "python",
     "metadata": {},
     "outputs": [],
     "prompt_number": 4
    },
    {
     "cell_type": "code",
     "collapsed": false,
     "input": [
      "img = imread(\"sample.jpeg\")\n",
      "temp = float32sc(img)\n",
      "##read image and convert to matrix\n",
      "\n",
      "if ndims(img) == 3\n",
      "    temp = mean(temp.data, 1)\n",
      "end\n",
      "\n"
     ],
     "language": "python",
     "metadata": {},
     "outputs": [],
     "prompt_number": 27
    },
    {
     "cell_type": "code",
     "collapsed": false,
     "input": [
      "#println(temp.data) ##printing the vector"
     ],
     "language": "python",
     "metadata": {},
     "outputs": [],
     "prompt_number": 30
    },
    {
     "cell_type": "code",
     "collapsed": false,
     "input": [
      "#x[i, :] = reshape(temp, 1, imageSize)\n",
      "##every row is one image\n",
      "##every column is one feature vector"
     ],
     "language": "python",
     "metadata": {},
     "outputs": [],
     "prompt_number": 32
    },
    {
     "cell_type": "code",
     "collapsed": false,
     "input": [
      "##Data could be of either type (train) or (test)\n",
      "\n",
      "##a column called labelsInfo contains all of training labels\n",
      "\n",
      "##imgs are 20x20 "
     ],
     "language": "python",
     "metadata": {},
     "outputs": [],
     "prompt_number": 19
    },
    {
     "cell_type": "code",
     "collapsed": false,
     "input": [
      "function read_data(typeData, labelsinfo, imagesize, path)\n",
      "    #initialize x matrix\n",
      "    x = zeros(size(labelsinfo, 1), imagesize) ##number of rows is number of labels, columns is # of pixels in image\n",
      "    \n",
      "    for (index, idImage) in enumerate(labelsInfo['ID'])\n",
      "        ##read in the image\n",
      "        namefile = \"$(path)/$(typeData)/Resized/$(idImage).bmp\n",
      "        img = imread(namefile)\n",
      "        \n",
      "        ##convert to float values\n",
      "        temp = float32sc(img)\n",
      "        \n",
      "        ##convert to black/white if color\n",
      "        if ndims(temp) == 3\n",
      "            temp = mean(temp.data,1)\n",
      "        end\n",
      "        \n",
      "        ##transform vector and store as matrix\n",
      "        x[index, :] = reshape(temp, 1, imageSize)\n",
      "    end\n",
      "    \n",
      "    return x\n",
      "end\n",
      "            "
     ],
     "language": "python",
     "metadata": {},
     "outputs": []
    }
   ],
   "metadata": {}
  }
 ]
}