{
 "metadata": {
  "language": "Julia",
  "name": "",
  "signature": "sha256:479bbdde94a1559fc66b7e38219ce9985f6a564e6709b2b0ae449c7b80093dd0"
 },
 "nbformat": 3,
 "nbformat_minor": 0,
 "worksheets": [
  {
   "cells": [
    {
     "cell_type": "code",
     "collapsed": false,
     "input": [
      "##add the image package in Julia\n",
      "\n",
      "\n",
      "using Images\n",
      "using DataFrames\n",
      "\n"
     ],
     "language": "python",
     "metadata": {},
     "outputs": [],
     "prompt_number": 4
    },
    {
     "cell_type": "code",
     "collapsed": false,
     "input": [
      "img = imread(\"sample.jpeg\")\n",
      "temp = float32sc(img)\n",
      "##read image and convert to matrix\n",
      "\n",
      "if ndims(img) == 3\n",
      "    temp = mean(temp.data, 1)\n",
      "end\n",
      "\n"
     ],
     "language": "python",
     "metadata": {},
     "outputs": [],
     "prompt_number": 27
    },
    {
     "cell_type": "code",
     "collapsed": false,
     "input": [
      "#println(temp.data) ##printing the vector"
     ],
     "language": "python",
     "metadata": {},
     "outputs": [],
     "prompt_number": 30
    },
    {
     "cell_type": "code",
     "collapsed": false,
     "input": [
      "#x[i, :] = reshape(temp, 1, imageSize)\n",
      "##every row is one image\n",
      "##every column is one feature vector"
     ],
     "language": "python",
     "metadata": {},
     "outputs": [],
     "prompt_number": 32
    },
    {
     "cell_type": "code",
     "collapsed": false,
     "input": [
      "##Data could be of either type (train) or (test)\n",
      "\n",
      "##a column called labelsInfo contains all of training labels\n",
      "\n",
      "##imgs are 20x20 "
     ],
     "language": "python",
     "metadata": {},
     "outputs": [],
     "prompt_number": 19
    },
    {
     "cell_type": "code",
     "collapsed": false,
     "input": [
      "function read_data(typeData, labelsinfo, imagesize, path)\n",
      "    #initialize x matrix\n",
      "    x = zeros(size(labelsinfo, 1), imagesize) ##number of rows is number of labels, columns is # of pixels in image\n",
      "    \n",
      "    for (index, idImage) in enumerate(labelsInfo['ID'])\n",
      "        ##read in the image\n",
      "        namefile = \"$(path)/$(typeData)/Resized/$(idImage).bmp\n",
      "        img = imread(namefile)"
     ],
     "language": "python",
     "metadata": {},
     "outputs": []
    }
   ],
   "metadata": {}
  }
 ]
}