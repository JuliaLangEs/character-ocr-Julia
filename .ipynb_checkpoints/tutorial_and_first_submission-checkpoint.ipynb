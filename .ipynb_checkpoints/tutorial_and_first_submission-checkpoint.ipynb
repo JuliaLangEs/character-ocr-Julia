{
 "metadata": {
  "language": "Julia",
  "name": "",
  "signature": "sha256:3256e31e4ba062eb08b5177e2efea8415473b60f2f1a3c904a627ee1e1e8e499"
 },
 "nbformat": 3,
 "nbformat_minor": 0,
 "worksheets": [
  {
   "cells": [
    {
     "cell_type": "code",
     "collapsed": false,
     "input": [
      "##add the image package in Julia\n",
      "\n",
      "\n",
      "using Images\n",
      "using DataFrames\n",
      "\n"
     ],
     "language": "python",
     "metadata": {},
     "outputs": [],
     "prompt_number": 15
    },
    {
     "cell_type": "code",
     "collapsed": false,
     "input": [
      "img = imread(\"sample.jpeg\")\n",
      "temp = float32sc(img)\n",
      "##read image and convert to matrix\n",
      "\n",
      "if ndims(img) == 3\n",
      "    temp = mean(temp.data, 1)\n",
      "end\n",
      "\n"
     ],
     "language": "python",
     "metadata": {},
     "outputs": [],
     "prompt_number": 23
    },
    {
     "cell_type": "code",
     "collapsed": false,
     "input": [
      "#println(temp.data) ##printing the vector"
     ],
     "language": "python",
     "metadata": {},
     "outputs": [],
     "prompt_number": 24
    },
    {
     "cell_type": "code",
     "collapsed": false,
     "input": [
      "#x[i, :] = reshape(temp, 1, imageSize)\n",
      "##every row is one image\n",
      "##every column is one feature vector"
     ],
     "language": "python",
     "metadata": {},
     "outputs": [],
     "prompt_number": 25
    },
    {
     "cell_type": "code",
     "collapsed": false,
     "input": [
      "##Data could be of either type (train) or (test)\n",
      "\n",
      "##a column called labelsInfo contains all of training labels\n",
      "\n",
      "##imgs are 20x20 "
     ],
     "language": "python",
     "metadata": {},
     "outputs": [],
     "prompt_number": 26
    },
    {
     "cell_type": "code",
     "collapsed": false,
     "input": [
      "function read_data(typeData, labelsInfo, imageSize, path)\n",
      "\n",
      "    #initialize x matrix\n",
      "    x = zeros(size(labelsinfo, 1), imagesize) ##number of rows is number of labels, columns is # of pixels in image\n",
      "    \n",
      "    for (index, idImage) in enumerate(labelsInfo[\"ID\"])\n",
      "        ##read in the image\n",
      "        namefile = \"$(path)/$(typeData)/Resized/$(idImage).bmp\"\n",
      "        img = imread(namefile)\n",
      "        \n",
      "        ##convert to float values\n",
      "        temp = float32sc(img)\n",
      "        \n",
      "        ##convert to black/white if color\n",
      "        if ndims(temp) == 3\n",
      "            temp = mean(temp.data,1)\n",
      "        end\n",
      "        \n",
      "        ##transform vector and store as 1-d matrix\n",
      "        x[index, :] = reshape(temp, 1, imageSize)\n",
      "    end\n",
      "    \n",
      "    return x\n",
      "end\n",
      "            "
     ],
     "language": "python",
     "metadata": {},
     "outputs": [
      {
       "metadata": {},
       "output_type": "pyout",
       "prompt_number": 36,
       "text": [
        "read_data (generic function with 1 method)"
       ]
      }
     ],
     "prompt_number": 36
    },
    {
     "cell_type": "code",
     "collapsed": false,
     "input": [],
     "language": "python",
     "metadata": {},
     "outputs": [],
     "prompt_number": 30
    },
    {
     "cell_type": "code",
     "collapsed": false,
     "input": [],
     "language": "python",
     "metadata": {},
     "outputs": []
    }
   ],
   "metadata": {}
  }
 ]
}