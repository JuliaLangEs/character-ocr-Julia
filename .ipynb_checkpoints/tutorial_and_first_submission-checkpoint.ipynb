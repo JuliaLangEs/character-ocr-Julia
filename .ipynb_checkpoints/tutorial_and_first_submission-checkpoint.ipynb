{
 "metadata": {
  "language": "Julia",
  "name": "",
  "signature": "sha256:62225104a2b3d05260480010565b139023c93ae1b2f1388e4a9d3da040a841a3"
 },
 "nbformat": 3,
 "nbformat_minor": 0,
 "worksheets": [
  {
   "cells": [
    {
     "cell_type": "code",
     "collapsed": false,
     "input": [
      "##add the image package in Julia\n",
      "\n",
      "Pkg.add(\"images\")\n",
      "Pkg.add(\"DataFrames\")\n",
      "\n",
      "using images\n",
      "using DataFrames\n",
      "\n"
     ],
     "language": "python",
     "metadata": {},
     "outputs": []
    },
    {
     "cell_type": "code",
     "collapsed": false,
     "input": [
      "img = imread(\"sample.png\")\n",
      "temp = float32"
     ],
     "language": "python",
     "metadata": {},
     "outputs": []
    }
   ],
   "metadata": {}
  }
 ]
}